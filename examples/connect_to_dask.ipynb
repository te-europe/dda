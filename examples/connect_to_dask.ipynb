{
 "cells": [
  {
   "cell_type": "code",
   "execution_count": 1,
   "metadata": {},
   "outputs": [
    {
     "name": "stderr",
     "output_type": "stream",
     "text": [
      "/Users/jackminchin/opt/anaconda3/lib/python3.8/site-packages/distributed/client.py:1278: VersionMismatchWarning: Mismatched versions found\n",
      "\n",
      "+-------------+----------------+----------------+----------------+\n",
      "| Package     | client         | scheduler      | workers        |\n",
      "+-------------+----------------+----------------+----------------+\n",
      "| blosc       | None           | MISSING        | MISSING        |\n",
      "| dask        | 2022.02.1      | 2022.05.0      | 2022.05.0      |\n",
      "| distributed | 2022.2.1       | 2022.5.0       | 2022.5.0       |\n",
      "| lz4         | None           | 4.0.0          | 4.0.0          |\n",
      "| numpy       | 1.21.5         | 1.22.3         | 1.22.3         |\n",
      "| python      | 3.8.12.final.0 | 3.8.13.final.0 | 3.8.13.final.0 |\n",
      "+-------------+----------------+----------------+----------------+\n",
      "  warnings.warn(version_module.VersionMismatchWarning(msg[0][\"warning\"]))\n"
     ]
    }
   ],
   "source": [
    "from dask.distributed import Client\n",
    "\n",
    "client = Client(\"tcp://20.26.53.249:8786\")"
   ]
  },
  {
   "cell_type": "code",
   "execution_count": 6,
   "metadata": {},
   "outputs": [],
   "source": [
    "import dask.dataframe as dd\n",
    "import pandas as pd\n",
    "import numpy as np\n",
    "\n",
    "index = pd.date_range(\"2000-09-01\", periods=2400, freq=\"1H\")\n",
    "df = pd.DataFrame({\"a\": np.arange(2400)}, index=index)\n",
    "ddf = dd.from_pandas(df, npartitions=10000)"
   ]
  }
 ],
 "metadata": {
  "interpreter": {
   "hash": "23a6fcf58ac5859bd11a28ba19da69d5c77b8cfa201a0396215eeea37fade8f8"
  },
  "kernelspec": {
   "display_name": "Python 3.8.12 ('base')",
   "language": "python",
   "name": "python3"
  },
  "language_info": {
   "codemirror_mode": {
    "name": "ipython",
    "version": 3
   },
   "file_extension": ".py",
   "mimetype": "text/x-python",
   "name": "python",
   "nbconvert_exporter": "python",
   "pygments_lexer": "ipython3",
   "version": "3.8.12"
  },
  "orig_nbformat": 4
 },
 "nbformat": 4,
 "nbformat_minor": 2
}
